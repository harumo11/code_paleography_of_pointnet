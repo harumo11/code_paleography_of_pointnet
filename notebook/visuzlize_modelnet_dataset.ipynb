{
 "cells": [
  {
   "cell_type": "code",
   "execution_count": 1,
   "id": "014c04f6-27ff-4731-9801-4a62427d5618",
   "metadata": {},
   "outputs": [
    {
     "name": "stderr",
     "output_type": "stream",
     "text": [
      "/home/harumo/repos/python/pointnet/.venv/lib/python3.12/site-packages/torch/__config__.py:9: UserWarning: CUDA initialization: Unexpected error from cudaGetDeviceCount(). Did you run some cuda functions before calling NumCudaDevices() that might have already set an error? Error 804: forward compatibility was attempted on non supported HW (Triggered internally at /pytorch/c10/cuda/CUDAFunctions.cpp:109.)\n",
      "  return torch._C._show_config()\n"
     ]
    }
   ],
   "source": [
    "from pathlib import Path\n",
    "from torch_geometric.datasets import ModelNet\n",
    "import torch_geometric.transforms as T"
   ]
  },
  {
   "cell_type": "code",
   "execution_count": 2,
   "id": "f2dabcf0-8ff2-4a31-bd96-64e2b445e0f8",
   "metadata": {},
   "outputs": [],
   "source": [
    "dataset_dir = '../dataset/modelnet/'"
   ]
  },
  {
   "cell_type": "code",
   "execution_count": 3,
   "id": "1d9c4d3b-80f6-4055-b21e-3f4d33dbe416",
   "metadata": {},
   "outputs": [],
   "source": [
    "pre_transform = T.Compose([\n",
    "    T.SamplePoints(1024, remove_faces=True, include_normals=True),\n",
    "    T.NormalizeScale()])"
   ]
  },
  {
   "cell_type": "code",
   "execution_count": 4,
   "id": "57b71f05-8ccd-495d-bbcd-7af2a70f2010",
   "metadata": {},
   "outputs": [],
   "source": [
    "train_dataset = ModelNet(dataset_dir, train=True, pre_transform=pre_transform, pre_filter=None)\n",
    "test_dataset  = ModelNet(dataset_dir, train=False, pre_transform=pre_transform, pre_filter=None)"
   ]
  },
  {
   "cell_type": "code",
   "execution_count": 8,
   "id": "d5bfb517-18ee-49f6-8304-276ec312c146",
   "metadata": {},
   "outputs": [
    {
     "name": "stdout",
     "output_type": "stream",
     "text": [
      "train data set len: 3991\n",
      "Data(pos=[1024, 3], y=[1], normal=[1024, 3])\n"
     ]
    }
   ],
   "source": [
    "print(f'train data set len: {len(train_dataset)}')\n",
    "print(train_dataset[0]) # y is label"
   ]
  },
  {
   "cell_type": "code",
   "execution_count": 11,
   "id": "b6c272df-fecb-40fb-ab8c-02bfeee222b0",
   "metadata": {},
   "outputs": [
    {
     "name": "stdout",
     "output_type": "stream",
     "text": [
      "torch.Size([1024, 3])\n"
     ]
    }
   ],
   "source": [
    "print(train_dataset[0].pos.shape)"
   ]
  },
  {
   "cell_type": "code",
   "execution_count": 14,
   "id": "8b998856-dc2c-4280-9795-2bb01236e064",
   "metadata": {},
   "outputs": [],
   "source": [
    "from torch_geometric.loader import DataLoader"
   ]
  },
  {
   "cell_type": "code",
   "execution_count": 15,
   "id": "149df86a-c207-4e2f-bb5d-1a3a36d7f216",
   "metadata": {},
   "outputs": [],
   "source": [
    "dataloader = DataLoader(train_dataset, batch_size=32, shuffle=False)"
   ]
  },
  {
   "cell_type": "code",
   "execution_count": 16,
   "id": "359a119f-d947-4867-a358-d41c4b3a5a31",
   "metadata": {},
   "outputs": [],
   "source": [
    "batch = next(iter(dataloader))"
   ]
  },
  {
   "cell_type": "code",
   "execution_count": 17,
   "id": "4eda19bf-1a78-4147-bdb1-b1423de385ad",
   "metadata": {},
   "outputs": [
    {
     "name": "stdout",
     "output_type": "stream",
     "text": [
      "DataBatch(pos=[32768, 3], y=[32], normal=[32768, 3], batch=[32768], ptr=[33])\n"
     ]
    }
   ],
   "source": [
    "print(batch)"
   ]
  },
  {
   "cell_type": "code",
   "execution_count": 22,
   "id": "cf0cf598-d62b-4989-b8e6-fb9f46478a16",
   "metadata": {},
   "outputs": [
    {
     "data": {
      "text/plain": [
       "tensor([ 0,  0,  0,  ..., 31, 31, 31])"
      ]
     },
     "execution_count": 22,
     "metadata": {},
     "output_type": "execute_result"
    }
   ],
   "source": [
    "batch.batch"
   ]
  },
  {
   "cell_type": "code",
   "execution_count": null,
   "id": "e72ce381-b913-46a5-80de-bac1f89dccb6",
   "metadata": {},
   "outputs": [],
   "source": []
  }
 ],
 "metadata": {
  "kernelspec": {
   "display_name": "Python 3 (ipykernel)",
   "language": "python",
   "name": "python3"
  },
  "language_info": {
   "codemirror_mode": {
    "name": "ipython",
    "version": 3
   },
   "file_extension": ".py",
   "mimetype": "text/x-python",
   "name": "python",
   "nbconvert_exporter": "python",
   "pygments_lexer": "ipython3",
   "version": "3.12.3"
  }
 },
 "nbformat": 4,
 "nbformat_minor": 5
}
