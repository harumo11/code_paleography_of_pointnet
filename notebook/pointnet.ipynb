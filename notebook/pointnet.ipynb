{
 "cells": [
  {
   "cell_type": "code",
   "execution_count": 1,
   "id": "50d2a815-c7bb-4053-af36-05b983b6dfee",
   "metadata": {},
   "outputs": [
    {
     "name": "stderr",
     "output_type": "stream",
     "text": [
      "/home/harumo/repos/python/pointnet/.venv/lib/python3.12/site-packages/torch/__config__.py:9: UserWarning: CUDA initialization: Unexpected error from cudaGetDeviceCount(). Did you run some cuda functions before calling NumCudaDevices() that might have already set an error? Error 804: forward compatibility was attempted on non supported HW (Triggered internally at /pytorch/c10/cuda/CUDAFunctions.cpp:109.)\n",
      "  return torch._C._show_config()\n"
     ]
    }
   ],
   "source": [
    "from pathlib import Path\n",
    "from torch_geometric.datasets import ModelNet\n",
    "import torch_geometric.transforms as T"
   ]
  },
  {
   "cell_type": "markdown",
   "id": "49c1fa3b-da2a-4885-8518-5bf672907e5b",
   "metadata": {},
   "source": [
    "## dataset loading"
   ]
  },
  {
   "cell_type": "code",
   "execution_count": 2,
   "id": "8ac7cc26-1b75-45ec-820b-10e3da575b34",
   "metadata": {},
   "outputs": [],
   "source": [
    "dataset_dir = '../dataset/modelnet/'\n",
    "pre_transform = T.Compose([\n",
    "    T.SamplePoints(1024, remove_faces=True, include_normals=True),\n",
    "    T.NormalizeScale()])"
   ]
  },
  {
   "cell_type": "code",
   "execution_count": 3,
   "id": "e53e8305-65fe-4433-aa93-27e946787c19",
   "metadata": {},
   "outputs": [],
   "source": [
    "train_dataset = ModelNet(dataset_dir, train=True, pre_transform=pre_transform, pre_filter=None)\n",
    "test_dataset  = ModelNet(dataset_dir, train=False, pre_transform=pre_transform, pre_filter=None)"
   ]
  },
  {
   "cell_type": "code",
   "execution_count": 4,
   "id": "eea3f00a-6a1a-407d-addf-d2a1fdf1c26b",
   "metadata": {},
   "outputs": [],
   "source": [
    "from torch_geometric.loader import DataLoader\n",
    "dataloader = DataLoader(train_dataset, batch_size=32, shuffle=False)"
   ]
  },
  {
   "cell_type": "markdown",
   "id": "0685e349-db26-410b-aa4a-4b0ef17d5cc0",
   "metadata": {},
   "source": [
    "## pointnet"
   ]
  },
  {
   "cell_type": "code",
   "execution_count": 5,
   "id": "cfb4345d-b2ed-4edf-a6db-9944398e8c6c",
   "metadata": {},
   "outputs": [],
   "source": [
    "from torch_geometric.nn import global_max_pool\n",
    "import torch.nn as nn"
   ]
  },
  {
   "cell_type": "code",
   "execution_count": 6,
   "id": "fc33de62-e962-41d0-b8a0-f659da915ce7",
   "metadata": {},
   "outputs": [],
   "source": [
    "class SymmFunction(nn.Module):\n",
    "    def __init__(self):\n",
    "        # batch(32) * sampled point(1024), 3] --> [batch(32), 512]\n",
    "        super().__init__()\n",
    "        self.shared_mlp = nn.Sequential(\n",
    "        nn.Linear(3, 64), nn.BatchNorm1d(64), nn.ReLU(),\n",
    "        nn.Linear(64, 128), nn.BatchNorm1d(128), nn.ReLU(),\n",
    "        nn.Linear(128, 512))\n",
    "\n",
    "    def forward(self, batch):\n",
    "        x = self.shared_mlp(batch.pos) # [batch * sampled points, 3] --> [batch * sampled points, 512]        \n",
    "        x = global_max_pool(x, batch.batch) # [batch * sampled points, 512] --> [batch, 512]\n",
    "        return x"
   ]
  },
  {
   "cell_type": "code",
   "execution_count": 7,
   "id": "b99f5a18-3b51-49ae-9a1d-fd496272dacb",
   "metadata": {},
   "outputs": [],
   "source": [
    "f = SymmFunction()"
   ]
  },
  {
   "cell_type": "code",
   "execution_count": 8,
   "id": "a544d6b1-23ce-4514-bad2-0f828a335641",
   "metadata": {},
   "outputs": [],
   "source": [
    "batch = next(iter(dataloader))"
   ]
  },
  {
   "cell_type": "code",
   "execution_count": 9,
   "id": "2d0fc3fb-9ab9-4855-b4b4-2ab5acc44f9e",
   "metadata": {},
   "outputs": [
    {
     "name": "stdout",
     "output_type": "stream",
     "text": [
      "DataBatch(pos=[32768, 3], y=[32], normal=[32768, 3], batch=[32768], ptr=[33])\n",
      "torch.Size([32, 512])\n"
     ]
    }
   ],
   "source": [
    "print(batch)\n",
    "y = f(batch)\n",
    "print(y.shape)"
   ]
  },
  {
   "cell_type": "code",
   "execution_count": 10,
   "id": "02c9e533-9ce7-4a83-a484-705c94d80109",
   "metadata": {},
   "outputs": [],
   "source": [
    "import torch"
   ]
  },
  {
   "cell_type": "code",
   "execution_count": 11,
   "id": "38730afb-a8cb-406d-9ece-b830ac54b1e2",
   "metadata": {},
   "outputs": [],
   "source": [
    "class InputTNet(nn.Module):\n",
    "    \"\"\"\n",
    "    Estinamates rotation matrix in orider to normalize rotation.\n",
    "    \"\"\"\n",
    "    def __init__(self):\n",
    "        super().__init__()\n",
    "        self.input_mlp = nn.Sequential(\n",
    "            nn.Linear(3, 64), nn.BatchNorm1d(64), nn.ReLU(),\n",
    "            nn.Linear(64, 128), nn.BatchNorm1d(128), nn.ReLU(),\n",
    "            nn.Linear(128, 1024), nn.BatchNorm1d(1024), nn.ReLU()\n",
    "        )\n",
    "\n",
    "        self.output_mlp = nn.Sequential(\n",
    "            nn.Linear(1024, 512), nn.BatchNorm1d(512), nn.ReLU(),\n",
    "            nn.Linear(512, 256), nn.BatchNorm1d(256), nn.ReLU(),\n",
    "            nn.Linear(256, 9)\n",
    "        )\n",
    "\n",
    "    def forward(self, x, batch):\n",
    "        x = self.input_mlp(x) # [batch * sampled point, sampled point]\n",
    "        x = global_max_pool(x, batch) # [batch, sampled point]\n",
    "        x = self.output_mlp(x) # [batch, 9]\n",
    "        x = x.view(-1, 3, 3)\n",
    "        id_matrix = torch.eye(3).to(x.device).view(1, 3, 3).repeat(x.shape[0], 1, 1) # [batch, 3, 3]\n",
    "        x = id_matrix + x\n",
    "        return x"
   ]
  },
  {
   "cell_type": "code",
   "execution_count": 12,
   "id": "562b73be-f487-4648-9ea8-d7c4b14c7e6b",
   "metadata": {},
   "outputs": [
    {
     "data": {
      "text/plain": [
       "torch.Size([3, 3])"
      ]
     },
     "execution_count": 12,
     "metadata": {},
     "output_type": "execute_result"
    }
   ],
   "source": [
    "torch.eye(3).shape"
   ]
  },
  {
   "cell_type": "code",
   "execution_count": 13,
   "id": "5066ed15-f951-4d74-8758-5faecfa6d840",
   "metadata": {},
   "outputs": [],
   "source": [
    "f = InputTNet()\n",
    "y = f(batch.pos, batch.batch)"
   ]
  },
  {
   "cell_type": "code",
   "execution_count": 14,
   "id": "5e9f9bb5-d354-4027-8e85-b67f67db2b93",
   "metadata": {},
   "outputs": [],
   "source": [
    "class FeatureTNet(nn.Module):\n",
    "    def __init__(self):\n",
    "        super().__init__()\n",
    "        self.input_mlp = nn.Sequential(\n",
    "        nn.Linear(64, 64), nn.BatchNorm1d(64), nn.ReLU(),\n",
    "        nn.Linear(64, 128), nn.BatchNorm1d(128), nn.ReLU(),\n",
    "        nn.Linear(128, 1024), nn.BatchNorm1d(1024), nn.ReLU()\n",
    "        )\n",
    "        self.output_mlp = nn.Sequential(\n",
    "        nn.Linear(1024, 512), nn.BatchNorm1d(512), nn.ReLU(),\n",
    "        nn.Linear(512, 256), nn.BatchNorm1d(256), nn.ReLU(),\n",
    "        nn.Linear(256, 64*64)\n",
    "        )\n",
    "\n",
    "    def forward(self, x, batch):\n",
    "        x = self.input_mlp(x)\n",
    "        x = global_max_pool(x, batch)\n",
    "        x = self.output_mlp(x)\n",
    "        x = x.view(-1, 64, 64)\n",
    "        id_matrix = torch.eye(64).to(x.device).view(1, 64, 64).repeat(x.shape[0], 1, 1)\n",
    "        x = id_matrix + x\n",
    "        return x"
   ]
  },
  {
   "cell_type": "code",
   "execution_count": 15,
   "id": "11e76e53-d660-4a0e-bf51-2ea82a04e364",
   "metadata": {},
   "outputs": [],
   "source": [
    "class PointNetClassification(nn.Module):\n",
    "    def __init__(self):\n",
    "        super().__init__()\n",
    "        self.input_tnet = InputTNet()\n",
    "        self.mlp1 = nn.Sequential(\n",
    "        nn.Linear(3, 64), nn.BatchNorm1d(64), nn.ReLU(),\n",
    "        nn.Linear(64, 64), nn.BatchNorm1d(64), nn.ReLU()\n",
    "        )\n",
    "\n",
    "        self.feature_tnet = FeatureTNet()\n",
    "        self.mlp2 = nn.Sequential(\n",
    "            nn.Linear(64, 64), nn.BatchNorm1d(64), nn.ReLU(),\n",
    "            nn.Linear(64, 128), nn.BatchNorm1d(128), nn.ReLU(),\n",
    "            nn.Linear(128, 1024), nn.BatchNorm1d(1024), nn.ReLU()\n",
    "        )\n",
    "        self.mlp3 = nn.Sequential(\n",
    "            nn.Linear(1024, 512), nn.BatchNorm1d(512), nn.ReLU(), nn.Dropout(0.3),\n",
    "            nn.Linear(512, 256), nn.BatchNorm1d(256), nn.ReLU(), nn.Dropout(0.3),\n",
    "            nn.Linear(256, 10)\n",
    "        )\n",
    "\n",
    "    def forward(self, batch_data):\n",
    "        x = batch_data.pos\n",
    "\n",
    "        input_transform = self.input_tnet(x, batch_data.batch_data)\n",
    "        transform = input_transform[batch_data.batch, :, :]\n",
    "        x = torch.bmm(transform, x.view(-1, 3, 1)).view(-1, 3)\n",
    "\n",
    "        x = self.mlp1(x)\n",
    "\n",
    "        feature_transform = self.feature_tnet(x, batch_data.batch)\n",
    "        transform = feature_transform[batch_data.batch, :, :]\n",
    "        x = torch.bmm(transform, x.view(-1, 64, 1)).view(-1, 64)\n",
    "\n",
    "        x = self.mlp2(x)\n",
    "        x = global_max_pool(x, batch_data.batch)\n",
    "        x = self.mlp3(x)\n",
    "\n",
    "        return x, input_transform, feature_transform"
   ]
  },
  {
   "cell_type": "markdown",
   "id": "ba33df58-260f-4bcb-9584-7a1e19ea8be0",
   "metadata": {},
   "source": [
    "## tensorboard"
   ]
  },
  {
   "cell_type": "code",
   "execution_count": 16,
   "id": "986e2dce-cd53-4fe1-a610-87464b8db207",
   "metadata": {},
   "outputs": [],
   "source": [
    "from tensorboardX import SummaryWriter"
   ]
  },
  {
   "cell_type": "code",
   "execution_count": 17,
   "id": "395076ce-e6fe-407f-a629-44a287267e68",
   "metadata": {},
   "outputs": [],
   "source": [
    "num_epoch = 400\n",
    "batch_size = 32\n",
    "\n",
    "device = torch.device('cuda') if torch.cuda.is_available() else torch.device('cpu')\n",
    "model = PointNetClassification()\n",
    "model = model.to(device)"
   ]
  },
  {
   "cell_type": "code",
   "execution_count": 18,
   "id": "554ef619-18db-4bf6-826c-44d566d6995c",
   "metadata": {},
   "outputs": [],
   "source": [
    "optimizer = torch.optim.Adam(lr=1e-4, params=model.parameters())\n",
    "scheculer = torch.optim.lr_scheduler.StepLR(optimizer, step_size=num_epoch//4, gamma=0.5)"
   ]
  },
  {
   "cell_type": "code",
   "execution_count": 20,
   "id": "ab0b2c7b-0c52-4c75-af45-2f94dedbb2af",
   "metadata": {},
   "outputs": [],
   "source": [
    "import os\n",
    "log_dir = './log_modelnet10_classification'\n",
    "os.makedirs(log_dir, exist_ok=True)"
   ]
  },
  {
   "cell_type": "code",
   "execution_count": 22,
   "id": "06e87955-f579-4333-ac48-b190ffc28c10",
   "metadata": {},
   "outputs": [],
   "source": [
    "writer = SummaryWriter(log_dir=log_dir)"
   ]
  },
  {
   "cell_type": "code",
   "execution_count": 23,
   "id": "0c4cb7ea-0ccb-462c-9d78-5d9a1d08b2ed",
   "metadata": {},
   "outputs": [],
   "source": [
    "train_dataloader = DataLoader(train_dataset, batch_size=batch_size, shuffle=True)\n",
    "test_dataloader  = DataLoader(test_dataset, batch_size=batch_size, shuffle=False)"
   ]
  },
  {
   "cell_type": "code",
   "execution_count": 24,
   "id": "63314d01-4e53-4e61-99ba-7bc987608ce1",
   "metadata": {},
   "outputs": [],
   "source": [
    "criteria = torch.nn.CrossEntropyLoss()"
   ]
  },
  {
   "cell_type": "markdown",
   "id": "93097ffd-b755-461e-9da7-6bf1b6fb5429",
   "metadata": {},
   "source": [
    "## learning loop"
   ]
  },
  {
   "cell_type": "code",
   "execution_count": 25,
   "id": "6a8dbd09-c8ef-4860-af01-9155af3cf28e",
   "metadata": {},
   "outputs": [],
   "source": [
    "from tqdm import tqdm"
   ]
  },
  {
   "cell_type": "code",
   "execution_count": null,
   "id": "7bdbba0b-7250-4fa4-826a-17bc6fb352a1",
   "metadata": {},
   "outputs": [],
   "source": [
    "for epoch in range(num_epoch):\n",
    "    model = model.train()\n",
    "\n",
    "    losses = []\n",
    "    for batch_data in tqdm(train_dataloader, total=len(train_dataloader)):\n",
    "        batch_data = batch_data.to(device)\n",
    "        this_batch_size = batch_data.bach_detach().max()+1\n",
    "\n",
    "        pred_y, _ = feature_transform = model(batch_data)\n",
    "        true_y = batch_data.y.detach()\n",
    "\n",
    "        class_loss = criteria(pred_y, true_y)\n",
    "        accuracy = float((pred_y.argmax(dim=1) == true_y).sum()) / float(this_batch_size)\n",
    "\n",
    "        id_matrix = torch.eye(feature_transform.shape[1]).to(feature_transform.device).view(1, 64, 64).repeat(feature_transform.shape[0], 1, 1)\n",
    "        transform_norm = torch.norm(torch.bmm(feature_transform, feature_transform.transpose(1, 2)) - id_matrix, dim=(1, 2))\n",
    "\n",
    "        # Start from L.21"
   ]
  }
 ],
 "metadata": {
  "kernelspec": {
   "display_name": "Python 3 (ipykernel)",
   "language": "python",
   "name": "python3"
  },
  "language_info": {
   "codemirror_mode": {
    "name": "ipython",
    "version": 3
   },
   "file_extension": ".py",
   "mimetype": "text/x-python",
   "name": "python",
   "nbconvert_exporter": "python",
   "pygments_lexer": "ipython3",
   "version": "3.12.3"
  }
 },
 "nbformat": 4,
 "nbformat_minor": 5
}
